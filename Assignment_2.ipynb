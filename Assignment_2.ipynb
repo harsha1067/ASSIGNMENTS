{
  "nbformat": 4,
  "nbformat_minor": 0,
  "metadata": {
    "colab": {
      "provenance": [],
      "authorship_tag": "ABX9TyPVuo75K5b9c4zShWeObhtc",
      "include_colab_link": true
    },
    "kernelspec": {
      "name": "python3",
      "display_name": "Python 3"
    },
    "language_info": {
      "name": "python"
    }
  },
  "cells": [
    {
      "cell_type": "markdown",
      "metadata": {
        "id": "view-in-github",
        "colab_type": "text"
      },
      "source": [
        "<a href=\"https://colab.research.google.com/github/harsha1067/ASSIGNMENTS/blob/main/Assignment_2.ipynb\" target=\"_parent\"><img src=\"https://colab.research.google.com/assets/colab-badge.svg\" alt=\"Open In Colab\"/></a>"
      ]
    },
    {
      "cell_type": "markdown",
      "source": [
        "1)Look at the data given below. Plot the data, find the outliers and find out  μ,σ,σ^2"
      ],
      "metadata": {
        "id": "VN7F4xOZdE0-"
      }
    },
    {
      "cell_type": "code",
      "source": [
        "import pandas as pd \n",
        "a = pd.Series([24.23,25.53,25.41,24.14,29.62,28.25,25.81,24.39,40.26,32.95,91.36,25.99,39.42,26.71,35.00])\n",
        "a"
      ],
      "metadata": {
        "colab": {
          "base_uri": "https://localhost:8080/"
        },
        "id": "cVn_FpNZc9oK",
        "outputId": "f9ef309e-5b27-488e-9176-d1db69ebb544"
      },
      "execution_count": null,
      "outputs": [
        {
          "output_type": "execute_result",
          "data": {
            "text/plain": [
              "0     24.23\n",
              "1     25.53\n",
              "2     25.41\n",
              "3     24.14\n",
              "4     29.62\n",
              "5     28.25\n",
              "6     25.81\n",
              "7     24.39\n",
              "8     40.26\n",
              "9     32.95\n",
              "10    91.36\n",
              "11    25.99\n",
              "12    39.42\n",
              "13    26.71\n",
              "14    35.00\n",
              "dtype: float64"
            ]
          },
          "metadata": {},
          "execution_count": 2
        }
      ]
    },
    {
      "cell_type": "code",
      "source": [
        "#ploting the data and finding the outliers\n",
        "import warnings\n",
        "warnings.filterwarnings('ignore')\n",
        "import matplotlib.pyplot as plt\n",
        "plt.plot(a, 'bs')"
      ],
      "metadata": {
        "colab": {
          "base_uri": "https://localhost:8080/",
          "height": 282
        },
        "id": "QE5OPP9WeBfh",
        "outputId": "b3b62552-3407-4b56-8b96-1cf76c839692"
      },
      "execution_count": null,
      "outputs": [
        {
          "output_type": "execute_result",
          "data": {
            "text/plain": [
              "[<matplotlib.lines.Line2D at 0x7f18d421ed60>]"
            ]
          },
          "metadata": {},
          "execution_count": 9
        },
        {
          "output_type": "display_data",
          "data": {
            "text/plain": [
              "<Figure size 432x288 with 1 Axes>"
            ],
            "image/png": "[encoded data removed]"
          },
          "metadata": {
            "needs_background": "light"
          }
        }
      ]
    },
    {
      "cell_type": "markdown",
      "source": [
        "1)The time required for servicing transmissions is normally distributed with  = 45 minutes and  = 8 minutes. The service manager plans to have work begin on the transmission of a customer’s car 10 minutes after the car is dropped off and the customer is told that the car will be ready within 1 hour from drop-off. What is the probability that the service manager cannot meet his commitment? "
      ],
      "metadata": {
        "id": "v2t-uw05lbab"
      }
    },
    {
      "cell_type": "code",
      "source": [
        "from scipy import stats \n",
        "1-stats.norm.cdf(50,45,8)"
      ],
      "metadata": {
        "colab": {
          "base_uri": "https://localhost:8080/"
        },
        "id": "B8aA1Q_JlQyI",
        "outputId": "24aeaa05-3f83-4f24-ffa2-fe60347dc6ad"
      },
      "execution_count": null,
      "outputs": [
        {
          "output_type": "execute_result",
          "data": {
            "text/plain": [
              "0.26598552904870054"
            ]
          },
          "metadata": {},
          "execution_count": 50
        }
      ]
    },
    {
      "cell_type": "markdown",
      "source": [
        "2)The current age (in years) of 400 clerical employees at an insurance claims processing center is normally distributed with mean  = 38 and Standard deviation  =6. For each statement below, please specify True/False. If false, briefly explain why.\n",
        "\n",
        "A.\tMore employees at the processing center are older than 44 than between 38 and 44.\n",
        "\n",
        "B.\tA training program for employees under the age of 30 at the center would be expected to attract about 36 employees.\n"
      ],
      "metadata": {
        "id": "WdQP7o3LTqkP"
      }
    },
    {
      "cell_type": "markdown",
      "source": [
        "A."
      ],
      "metadata": {
        "id": "RAr5kWcGUrx-"
      }
    },
    {
      "cell_type": "code",
      "execution_count": null,
      "metadata": {
        "colab": {
          "base_uri": "https://localhost:8080/"
        },
        "id": "8ZW_b_2zTkOO",
        "outputId": "e2c51610-e8f0-486e-ef41-b057cb1fb8fc"
      },
      "outputs": [
        {
          "output_type": "execute_result",
          "data": {
            "text/plain": [
              "0.8413447460685429"
            ]
          },
          "metadata": {},
          "execution_count": 1
        }
      ],
      "source": [
        "from scipy import stats \n",
        "stats.norm.cdf(44, 38, 6)"
      ]
    },
    {
      "cell_type": "code",
      "source": [
        "stats.norm.cdf(38, 38, 6)"
      ],
      "metadata": {
        "colab": {
          "base_uri": "https://localhost:8080/"
        },
        "id": "G5pbfj9GUDht",
        "outputId": "73a5688f-3cb0-419a-d5de-b583a5a54f5d"
      },
      "execution_count": null,
      "outputs": [
        {
          "output_type": "execute_result",
          "data": {
            "text/plain": [
              "0.5"
            ]
          },
          "metadata": {},
          "execution_count": 2
        }
      ]
    },
    {
      "cell_type": "markdown",
      "source": [
        "Therefore, more employees at the processing center are older than 44 than between 38 and 44. Hence the statement is true."
      ],
      "metadata": {
        "id": "EvgzFJCxUP7w"
      }
    },
    {
      "cell_type": "markdown",
      "source": [
        "B."
      ],
      "metadata": {
        "id": "EJIcYk_bUuj0"
      }
    },
    {
      "cell_type": "code",
      "source": [
        "from scipy import stats \n",
        "p = stats.norm.cdf(30,38,6)\n",
        "p"
      ],
      "metadata": {
        "colab": {
          "base_uri": "https://localhost:8080/"
        },
        "id": "2gTZHi4sUqQa",
        "outputId": "c94aadc7-9bee-4361-e3bb-c3bebbdccc85"
      },
      "execution_count": null,
      "outputs": [
        {
          "output_type": "execute_result",
          "data": {
            "text/plain": [
              "0.09121121972586788"
            ]
          },
          "metadata": {},
          "execution_count": 10
        }
      ]
    },
    {
      "cell_type": "markdown",
      "source": [
        "Total employes are 400"
      ],
      "metadata": {
        "id": "6AiWisd0U87e"
      }
    },
    {
      "cell_type": "code",
      "source": [
        "p*400\n"
      ],
      "metadata": {
        "colab": {
          "base_uri": "https://localhost:8080/"
        },
        "id": "QG_n0m7oU53J",
        "outputId": "07df5519-a8fe-468e-ad4f-8aa660372079"
      },
      "execution_count": null,
      "outputs": [
        {
          "output_type": "execute_result",
          "data": {
            "text/plain": [
              "36.484487890347154"
            ]
          },
          "metadata": {},
          "execution_count": 11
        }
      ]
    },
    {
      "cell_type": "markdown",
      "source": [
        "Therefore, it is true that training program for employees under the age of 30 at the center would be expected to attract about 36 employees."
      ],
      "metadata": {
        "id": "sm1Y-BgTVeaO"
      }
    },
    {
      "cell_type": "markdown",
      "source": [
        "3)If X1 ~ N (μ, σ2) and X2 ~ N (μ, σ2) are iid normal random variables, then what is the difference between 2 X1 and X1 + X2? Discuss both their distributions and parameters"
      ],
      "metadata": {
        "id": "2QVIAf__Vw4f"
      }
    },
    {
      "cell_type": "markdown",
      "source": [
        "X1 ~ N (μ, σ2)\n",
        "\n",
        "X2 ~ N (μ, σ2)\n",
        "\n",
        "2X1 ~ N (2μ, 4σ2) -----------I\n",
        "\n",
        "X1+X2 ~ N (μ, σ2) + N (μ, σ2) ~ N (2μ, 2σ2) ------------II\n",
        "\n",
        "The difference between 2X1 and X1 + X2 is\n",
        "2X1 – (X1+X2) ~ N (0, 6σ2)\n",
        "\n",
        "The mean of 2X1 and X1+X2 is same but the variance of 2X1 is 2 times more than the variance of X1+X2.\n",
        "\n",
        "The difference between the two equation says that the two given variables are identically and independently distributed.\n"
      ],
      "metadata": {
        "id": "D3ulDGRtcUPm"
      }
    },
    {
      "cell_type": "markdown",
      "source": [
        "4)Let X ~ N (100, 20^2). Find two values, a and b, symmetric about the mean, such that the probability of the random variable taking a value between them is 0.99"
      ],
      "metadata": {
        "id": "rJ-s1oJZcwVw"
      }
    },
    {
      "cell_type": "code",
      "source": [
        "from scipy import stats\n",
        "z1 = stats.norm.ppf(0.005)\n",
        "z2 = stats.norm.ppf(0.995)\n",
        "print(z1,\n",
        "      z2)"
      ],
      "metadata": {
        "colab": {
          "base_uri": "https://localhost:8080/"
        },
        "id": "kIBs4OKTc7kY",
        "outputId": "c735e8d8-eb80-4a9a-f35c-258dd63d9e9c"
      },
      "execution_count": null,
      "outputs": [
        {
          "output_type": "stream",
          "name": "stdout",
          "text": [
            "-2.575829303548901 2.5758293035489004\n"
          ]
        }
      ]
    },
    {
      "cell_type": "markdown",
      "source": [
        "z = (x-μ)/σ\n",
        "\n",
        "z = (x-100)/20\n",
        "\n",
        "20z+100 = x"
      ],
      "metadata": {
        "id": "Bpni1j4Os9tK"
      }
    },
    {
      "cell_type": "code",
      "source": [
        "a = (20*z1)+100\n",
        "b = (20*z2)+100\n",
        "print(a,'\\n', b)"
      ],
      "metadata": {
        "id": "wkwHs-rpVzW9",
        "colab": {
          "base_uri": "https://localhost:8080/"
        },
        "outputId": "9b78bd88-16f7-4c3a-e2d6-a64555b4ade7"
      },
      "execution_count": null,
      "outputs": [
        {
          "output_type": "stream",
          "name": "stdout",
          "text": [
            "48.483413929021985 \n",
            " 151.516586070978\n"
          ]
        }
      ]
    },
    {
      "cell_type": "markdown",
      "source": [
        "Therefore, \n",
        "           \n",
        "           a = 48.4834\n",
        "           \n",
        "           b = 151.5165"
      ],
      "metadata": {
        "id": "IEcLT1WivI_Y"
      }
    },
    {
      "cell_type": "markdown",
      "source": [
        "5)Consider a company that has two different divisions. The annual profits from the two divisions are independent and have distributions Profit1 ~ N (5, 3^2) and Profit2 ~ N (7, 4^2) respectively. Both the profits are in $ Million. \n",
        "\n",
        "Answer the following questions about the total profit of the company in Rupees. Assume that $1 = Rs. 45\n",
        "\n",
        "A.\tSpecify a Rupee range (centered on the mean) such that it contains 95% probability for the annual profit of the company.\n",
        "\n",
        "B.\tSpecify the 5th percentile of profit (in Rupees) for the company\n",
        "\n",
        "C.\tWhich of the two divisions has a larger probability of making a loss in a given year?\n"
      ],
      "metadata": {
        "id": "gUk7BqOXTZAh"
      }
    },
    {
      "cell_type": "markdown",
      "source": [
        "*sol*: Profit1 ~ N (5, 3^2)\n",
        "\n",
        "Profit2 ~ N (7, 4^2)\n",
        "\n",
        "Total profits ~ N (5+7, 3^2+4^2)\n",
        "\n",
        "~ N (12, 5^2)"
      ],
      "metadata": {
        "id": "FCDjk_UqXq8a"
      }
    },
    {
      "cell_type": "markdown",
      "source": [
        "A)"
      ],
      "metadata": {
        "id": "ZG2L1n7rdC0L"
      }
    },
    {
      "cell_type": "code",
      "source": [
        "#95% confidence level for z score\n",
        "from scipy import stats \n",
        "z = stats.norm.ppf(0.975)\n",
        "z"
      ],
      "metadata": {
        "colab": {
          "base_uri": "https://localhost:8080/"
        },
        "id": "9YeUCZuavDHi",
        "outputId": "8c0db87d-39ab-46b8-bd0c-b03ab9c9f1eb"
      },
      "execution_count": null,
      "outputs": [
        {
          "output_type": "execute_result",
          "data": {
            "text/plain": [
              "1.959963984540054"
            ]
          },
          "metadata": {},
          "execution_count": 17
        }
      ]
    },
    {
      "cell_type": "code",
      "source": [
        "R = (12-z*5, 12+z*5)\n",
        "R"
      ],
      "metadata": {
        "colab": {
          "base_uri": "https://localhost:8080/"
        },
        "id": "IduUHi7UYugB",
        "outputId": "086fa276-478e-4b47-db0b-6d2b5725e7a9"
      },
      "execution_count": null,
      "outputs": [
        {
          "output_type": "execute_result",
          "data": {
            "text/plain": [
              "(2.2001800772997306, 21.79981992270027)"
            ]
          },
          "metadata": {},
          "execution_count": 20
        }
      ]
    },
    {
      "cell_type": "code",
      "source": [
        "2.2*45, 21.8*45"
      ],
      "metadata": {
        "colab": {
          "base_uri": "https://localhost:8080/"
        },
        "id": "3DhA1tm3bdZM",
        "outputId": "1e147e8c-d3f1-4569-e883-5f3fe6b1143b"
      },
      "execution_count": null,
      "outputs": [
        {
          "output_type": "execute_result",
          "data": {
            "text/plain": [
              "(99.00000000000001, 981.0)"
            ]
          },
          "metadata": {},
          "execution_count": 28
        }
      ]
    },
    {
      "cell_type": "markdown",
      "source": [
        "Range in dollars = (2.2M, 21.8M)\n",
        "\n",
        "Range in rupees = (99M, 981M)"
      ],
      "metadata": {
        "id": "ZYjrdgVEbNJf"
      }
    },
    {
      "cell_type": "markdown",
      "source": [
        "B)"
      ],
      "metadata": {
        "id": "a_JAVK7jdFOg"
      }
    },
    {
      "cell_type": "code",
      "source": [
        "#5th percitile\n",
        "from scipy import stats \n",
        "stats.norm.ppf(0.05)"
      ],
      "metadata": {
        "colab": {
          "base_uri": "https://localhost:8080/"
        },
        "id": "foMKWBVnazDO",
        "outputId": "ca3e248d-4c37-4b6d-80a5-bb761ec0408e"
      },
      "execution_count": null,
      "outputs": [
        {
          "output_type": "execute_result",
          "data": {
            "text/plain": [
              "-1.6448536269514729"
            ]
          },
          "metadata": {},
          "execution_count": 33
        }
      ]
    },
    {
      "cell_type": "code",
      "source": [
        "a = 5*-1.6449+12\n",
        "a"
      ],
      "metadata": {
        "colab": {
          "base_uri": "https://localhost:8080/"
        },
        "id": "aG8ypGU3diBy",
        "outputId": "335ed405-5048-4ca9-8d0f-03044b85aa37"
      },
      "execution_count": null,
      "outputs": [
        {
          "output_type": "execute_result",
          "data": {
            "text/plain": [
              "3.775499999999999"
            ]
          },
          "metadata": {},
          "execution_count": 46
        }
      ]
    },
    {
      "cell_type": "code",
      "source": [
        "a*45\n"
      ],
      "metadata": {
        "colab": {
          "base_uri": "https://localhost:8080/"
        },
        "id": "tJ8wrGWreLzd",
        "outputId": "44b23f76-e80f-4815-c7c9-3deca03eaddd"
      },
      "execution_count": null,
      "outputs": [
        {
          "output_type": "execute_result",
          "data": {
            "text/plain": [
              "169.89749999999995"
            ]
          },
          "metadata": {},
          "execution_count": 47
        }
      ]
    },
    {
      "cell_type": "markdown",
      "source": [
        "z = (p-12)/5\n",
        "\n",
        "-1.6449 = (p-12)/5\n",
        "\n",
        "-8.2245 = p-12\n",
        "\n",
        "p = 3.7755\n",
        "\n",
        "Therefore, 5th percentile of profit for the company = 170M (in rupees)"
      ],
      "metadata": {
        "id": "I8n8jr0kds2-"
      }
    },
    {
      "cell_type": "markdown",
      "source": [
        "C)"
      ],
      "metadata": {
        "id": "PBHBrhBOj-r3"
      }
    },
    {
      "cell_type": "markdown",
      "source": [
        "The first division of company has larger probability of making a loss.\n",
        "\n",
        "Loss is when a profit < 0\n",
        "\n",
        "Thus: p < 0\n"
      ],
      "metadata": {
        "id": "oFb76T0jkC1z"
      }
    },
    {
      "cell_type": "markdown",
      "source": [
        "1)For each of the following statements, indicate whether it is True/False. If false, explain why.\n",
        "\n",
        "I.\tThe sample size of the survey should at least be a fixed percentage of the population size in order to produce representative results.\n",
        "\n",
        "II.\tThe sampling frame is a list of every item that appears in a survey sample, including those that did not respond to questions.\n",
        "\n",
        "III.\tLarger surveys convey a more accurate impression of the population than smaller surveys.\n"
      ],
      "metadata": {
        "id": "GioUs7gZNFa4"
      }
    },
    {
      "cell_type": "markdown",
      "source": [
        "I. True: The representation of the survey results should have a sample size. The sample size must be a fixed percentage of the total population size of the survey.\n",
        "\n",
        "II. False: The sampling frame refers to a list of an item which responds to the question and not the ones which do not respond to the question.\n",
        "\n",
        "III. True: The larger survey conveys a more accurate impression of the population; as larger surveys involve large sample size which reduces the chance of error."
      ],
      "metadata": {
        "id": "e9I2AqelNJhI"
      }
    },
    {
      "cell_type": "markdown",
      "source": [
        "2)PC Magazine asked all of its readers to participate in a survey of their satisfaction with different brands of electronics. In the 2004 survey, which was included in an issue of the magazine that year, more than 9000 readers rated the products on a scale from 1 to 10. The magazine reported that the average rating assigned by 225 readers to a Kodak compact digital camera was 7.5. For this product, identify the following:\n",
        "\n",
        "A.\tThe population\n",
        "\n",
        "B.\tThe parameter of interest\n",
        "\n",
        "C.\tThe sampling frame\n",
        "\n",
        "D.\tThe sample size\n",
        "\n",
        "E.\tThe sampling design\n",
        "\n",
        "F.\tAny potential sources of bias or other problems with the survey or sample\n"
      ],
      "metadata": {
        "id": "UE2VewZbbVL5"
      }
    },
    {
      "cell_type": "markdown",
      "source": [
        "A) Population, P = x/n\n",
        "                 = 225/9000\n",
        "\n",
        "                 0.025\n",
        "\n",
        "B) The parameter of interest is sample size, average, scale\n",
        "\n",
        "C) The sampling frame is 9000\n",
        "\n",
        "D) The sampling sizE is 225\n",
        "\n",
        "E) Other Biases found in responses may result from respondents not disclosing information in a survey."
      ],
      "metadata": {
        "id": "iz6DVacUbiWF"
      }
    },
    {
      "cell_type": "markdown",
      "source": [],
      "metadata": {
        "id": "sxNQ2ivMLoDE"
      }
    },
    {
      "cell_type": "markdown",
      "source": [
        "3)For each of the following statements, indicate whether it is True/False. If false, explain why.\n",
        "\n",
        "I.\tIf the 95% confidence interval for the average purchase of customers at a department store is $50 to $110, then $100 is a plausible value for the population mean at this level of confidence.\n",
        "\n",
        "II.\tIf the 95% confidence interval for the number of moviegoers who purchase concessions is 30% to 45%, this means that fewer than half of all moviegoers purchase concessions.\n",
        "\n",
        "III.\tThe 95% Confidence-Interval for μ only applies if the sample data are nearly normally distributed.\n"
      ],
      "metadata": {
        "id": "hCJrerirMXnU"
      }
    },
    {
      "cell_type": "markdown",
      "source": [
        "I.\tTrue, if the confidence interval for the average purchase of customers at a department store is 50$ to 110$, then 100$ is a plausible value for the population mean at this level of confidence.\n",
        "\n",
        "II.\tTrue, if the 95% confidence interval for the number of moviegoers who purchase concessions is 30% to 45%, this means that fewer than half of all moviegoers purchase concessions.\n",
        "\n",
        "\n",
        "III.\tFalse, that the 95% confidence interval for μ only applies if the sample data are nearly normally distributed.\n"
      ],
      "metadata": {
        "id": "7odWGLHoOJPy"
      }
    },
    {
      "cell_type": "markdown",
      "source": [
        "4)What are the chances that  ?\n",
        "\n",
        "A.\t¼ \n",
        "\n",
        "B.\t½ \n",
        "\n",
        "C.\t¾ \n",
        "\n",
        "D.\t1\n"
      ],
      "metadata": {
        "id": "GP29Pd8ZP70x"
      }
    },
    {
      "cell_type": "markdown",
      "source": [
        "The chances that X bar > mu is ¾."
      ],
      "metadata": {
        "id": "rgbHcRqVQCZA"
      }
    },
    {
      "cell_type": "markdown",
      "source": [
        "5)In January 2005, a company that monitors Internet traffic (WebSideStory) reported that its sampling revealed that the Mozilla Firefox browser launched in 2004 had grabbed a 4.6% share of the market.\n",
        "\n",
        "I.\tIf the sample were based on 2,000 users, could Microsoft conclude that Mozilla has a less than 5% share of the market?\n",
        "\n",
        "II.\tWebSideStory claims that its sample includes all the daily Internet users. If that’s the case, then can Microsoft conclude that Mozilla has a less than 5% share of the market?\n"
      ],
      "metadata": {
        "id": "CjqZA4ihQOzV"
      }
    },
    {
      "cell_type": "markdown",
      "source": [
        "I.\tProbability, p = 0.21\n",
        "Alpha = 0.005\n",
        "Therefore, p > alpha. Thus the null hypothesis that is Mozilla share is greater than alpha value.\n",
        "\n",
        "II.\tIn WebSideStory claims that its sample includes all the daily Internet users. This means that the 4.6% is the population percentage. Comparing it with Microsoft’s claim that Mozilla has a less than 5% share of the whole market is True. Hence, it can be concluded that Mozilla has a less than alpha value share of the market.\n"
      ],
      "metadata": {
        "id": "1XzXxc2SQcXC"
      }
    },
    {
      "cell_type": "markdown",
      "source": [
        "6.\tA book publisher monitors the size of shipments of its textbooks to university bookstores. For a sample of texts used at various schools, the 95% confidence interval for the size of the shipment was 250 ± 45 books. Which, if any, of the following interpretations of this interval are correct?\n",
        "\n",
        "A.\tAll shipments are between 205 and 295 books.\n",
        "\n",
        "B.\t95% of shipments are between 205 and 295 books.\n",
        "\n",
        "C.\tThe procedure that produced this interval generates ranges that hold the population mean for 95% of samples.\n",
        "\n",
        "D.\tIf we get another sample, then we can be 95% sure that the mean of this second sample is between 205 and 295.\n",
        "\n",
        "E.\tWe can be 95% confident that the range 160 to 340 holds the population mean.\n"
      ],
      "metadata": {
        "id": "BGHx0nzkQiPw"
      }
    },
    {
      "cell_type": "markdown",
      "source": [
        "The 95% confidence interval for the size of the shipment was 250 ± 45 books.\n",
        "\n",
        "= 250-45, 250+45\n",
        "\n",
        "= 205, 295\n",
        "\n",
        "The 95% confidence interval for the size of shipment was books.\n",
        "\n",
        "All the shipments are not between 205 and 295 books. Because due to 95% confidence interval for the size of shipment not all shipments. \n"
      ],
      "metadata": {
        "id": "rxjNjl5qQjuD"
      }
    },
    {
      "cell_type": "markdown",
      "source": [
        "7)Which is shorter: a 95% z-interval or a 95% t-interval for μ if we know that σ =s?\n",
        "\n",
        "A.\tThe z-interval is shorter\n",
        "\n",
        "B.\tThe t-interval is shorter\n",
        "\n",
        "C.\tBoth are equal\n",
        "\n",
        "D.\tWe cannot say\n"
      ],
      "metadata": {
        "id": "iO94EddVQvw6"
      }
    },
    {
      "cell_type": "markdown",
      "source": [
        "The z-interval is shorter. \n",
        "Because z-interval indicates difference between mean of the distribution and data points in standard deviation. \n",
        "\n",
        "In addition, the mean is shorter for z-interval because t-critical is greater than z-critical value. Therefore, z-interval is always shorter because t-critical value cannot be smaller than z-critical value.\n"
      ],
      "metadata": {
        "id": "qiKs302vXdHn"
      }
    },
    {
      "cell_type": "markdown",
      "source": [
        "8.\tHow many randomly selected employers (minimum number) must we contact in order to guarantee a margin of error of no more than 4% (at 95% confidence)?\n",
        "\n",
        "A.\t600\n",
        "\n",
        "B.\t400\n",
        "\n",
        "C.\t550\n",
        "\n",
        "D.\t1000\n"
      ],
      "metadata": {
        "id": "Nq2llV5GXp0P"
      }
    },
    {
      "cell_type": "code",
      "source": [
        "from scipy import stats\n",
        "z = stats.norm.ppf(0.975)  #95% + 2.5% = 97.5% = 0.975\n",
        "z"
      ],
      "metadata": {
        "colab": {
          "base_uri": "https://localhost:8080/"
        },
        "id": "k7iIQswua7JO",
        "outputId": "47030d34-0960-4c74-e745-4df1ff98e304"
      },
      "execution_count": null,
      "outputs": [
        {
          "output_type": "execute_result",
          "data": {
            "text/plain": [
              "1.959963984540054"
            ]
          },
          "metadata": {},
          "execution_count": 9
        }
      ]
    },
    {
      "cell_type": "markdown",
      "source": [
        "In the given data there is no estimate of the proportion\n",
        "\n",
        "So, p = 0.5\n",
        "\n",
        "For 95% confidence interval, z = 1.96\n",
        "\n",
        "n = (1.96/0.04) ^ 2 (0.5) (1-0.5) = 600.25\n",
        "\n",
        "In order to construct a 95% confidence interval with a margin of error of 4%, it should obtain a sample of at least n = 600\n"
      ],
      "metadata": {
        "id": "wasrd6cXay7c"
      }
    },
    {
      "cell_type": "markdown",
      "source": [
        "9)Suppose we want the above margin of error to be based on a 98% confidence level. What sample size (minimum) must we now use?\n",
        "\n",
        "A.\t1000\n",
        "\n",
        "B.\t757\n",
        "\n",
        "C.\t848\n",
        "\n",
        "D.\t543\n"
      ],
      "metadata": {
        "id": "-ZhQVMBndRXr"
      }
    },
    {
      "cell_type": "code",
      "source": [
        "from scipy import stats\n",
        "n = stats.norm.ppf(0.985)  #98% + 0.5% = 98.5% = 0.985\n",
        "n"
      ],
      "metadata": {
        "colab": {
          "base_uri": "https://localhost:8080/"
        },
        "id": "wzpWmBUumeof",
        "outputId": "141d7e43-214e-4a08-8830-e2ac03f2514f"
      },
      "execution_count": null,
      "outputs": [
        {
          "output_type": "execute_result",
          "data": {
            "text/plain": [
              "2.17009037758456"
            ]
          },
          "metadata": {},
          "execution_count": 20
        }
      ]
    },
    {
      "cell_type": "markdown",
      "source": [
        "In the given data there is no estimate of the proportion\n",
        "\n",
        "So, p = 0.5\n",
        "\n",
        "For 95% confidence interval, z = 2.17\n",
        "\n",
        "n = (2.17 /0.04) ^ 2 (0.5) (1-0.5) = 735.76\n",
        "\n",
        "In order to construct a 98% confidence interval with a margin of error of 4%, it should obtain a sample of at least n = 735\n"
      ],
      "metadata": {
        "id": "RSesyaIAdRTx"
      }
    },
    {
      "cell_type": "markdown",
      "source": [
        "1)Examine the following normal Quantile plots carefully. Which of these plots indicates that the data\n",
        "\n",
        "I.\tAre nearly normal?\n",
        "\n",
        "II.\tHave a bimodal distribution? (One way to recognize a bimodal shape is a “gap” in the spacing of adjacent data values.)\n",
        "\n",
        "III.\tAre skewed (i.e. not symmetric)?\n",
        "IV.\tHave outliers on both sides of the center?\n"
      ],
      "metadata": {
        "id": "8k15nxq9K7Oe"
      }
    },
    {
      "cell_type": "markdown",
      "source": [
        "I.\tThe data that indicates nearly normal are: C\n",
        "\n",
        "II.\tThe data that have binomial distribution are: B\n",
        "\n",
        "III.\tThe data that are skewed: A, C, D\n",
        "\n",
        "IV.\tThe data that have outliers on both sides of the center: A"
      ],
      "metadata": {
        "id": "ZO7FLSkvLG15"
      }
    },
    {
      "cell_type": "markdown",
      "source": [
        "For each of the following statements, indicate whether it is True/False. If false, explain why.\n",
        "\n",
        "The manager of a warehouse monitors the volume of shipments made by the delivery team. The automated tracking system tracks every package as it moves through the facility. A sample of 25 packages is selected and weighed every day. Based on current contracts with customers, the weights should have μ = 22 lbs. and σ = 5 lbs.\n",
        "\n",
        "(i) Before using a normal model for the sampling distribution of the average package weights, the manager must confirm that weights of individual packages are normally distributed.\n",
        "\n",
        "(ii) The standard error of the daily average SE(x ̅) = 1.\n"
      ],
      "metadata": {
        "id": "pahGYnANLZ3d"
      }
    },
    {
      "cell_type": "markdown",
      "source": [
        "I.\tFalse, because the individual values do not need to be normally distributed as long as the sample size condition is satisfied.\n",
        "\n",
        "II.\tTrue, the standard error of the mean is given by the formula SE(X) = σ/√n.\n",
        "SE (X) = 5/25 = 1\n"
      ],
      "metadata": {
        "id": "NjsMNolTLmol"
      }
    },
    {
      "cell_type": "markdown",
      "source": [
        "3)Auditors at a small community bank randomly sample 100 withdrawal transactions made during the week at an ATM machine located near the bank’s main branch. Over the past 2 years, the average withdrawal amount has been $50 with a standard deviation of $40. Since audit investigations are typically expensive, the auditors decide to not initiate further investigations if the mean transaction amount of the sample is between $45 and $55. What is the probability that in any given week, there will be an investigation?\n",
        "\n",
        "A.\t1.25%\n",
        "\n",
        "B.\t2.5%\n",
        "\n",
        "C.\t10.55%\n",
        "\n",
        "D.\t21.1%\n",
        "\n",
        "E.\t50%\n"
      ],
      "metadata": {
        "id": "UePFk9hULoVa"
      }
    },
    {
      "cell_type": "code",
      "source": [
        "import numpy as np\n",
        "from scipy import stats"
      ],
      "metadata": {
        "id": "gG8nM5nSct2F"
      },
      "execution_count": null,
      "outputs": []
    },
    {
      "cell_type": "code",
      "source": [
        "p = (45-50)/(40/100**0.5)\n",
        "p"
      ],
      "metadata": {
        "colab": {
          "base_uri": "https://localhost:8080/"
        },
        "id": "XDTVA9PZP10h",
        "outputId": "5023306c-5b9f-408a-f759-576382a6b112"
      },
      "execution_count": null,
      "outputs": [
        {
          "output_type": "execute_result",
          "data": {
            "text/plain": [
              "-1.25"
            ]
          },
          "metadata": {},
          "execution_count": 8
        }
      ]
    },
    {
      "cell_type": "code",
      "source": [
        "p = (55-50)/(40/100**0.5)\n",
        "p"
      ],
      "metadata": {
        "colab": {
          "base_uri": "https://localhost:8080/"
        },
        "id": "s_-4pE-IRCKp",
        "outputId": "0bf22fb8-ab8b-4e8c-b105-e1314db53745"
      },
      "execution_count": null,
      "outputs": [
        {
          "output_type": "execute_result",
          "data": {
            "text/plain": [
              "1.25"
            ]
          },
          "metadata": {},
          "execution_count": 10
        }
      ]
    },
    {
      "cell_type": "code",
      "source": [
        "z = stats.norm.cdf(1.25) - stats.norm.cdf(-1.25)\n",
        "z"
      ],
      "metadata": {
        "colab": {
          "base_uri": "https://localhost:8080/"
        },
        "id": "0GUUYBCuRQt9",
        "outputId": "ddbd8160-aca6-4cb1-f9f1-4d79779cc72f"
      },
      "execution_count": null,
      "outputs": [
        {
          "output_type": "execute_result",
          "data": {
            "text/plain": [
              "0.7887004526662893"
            ]
          },
          "metadata": {},
          "execution_count": 11
        }
      ]
    },
    {
      "cell_type": "code",
      "source": [
        "# OR\n",
        "stats.norm.cdf((55-50)/(40/100**0.5)) - stats.norm.cdf((45-50)/(40/100**0.5))"
      ],
      "metadata": {
        "colab": {
          "base_uri": "https://localhost:8080/"
        },
        "id": "L9xYjSlcSno9",
        "outputId": "f07ae1d2-9c7e-4a91-a0b8-db7d130e5ab4"
      },
      "execution_count": null,
      "outputs": [
        {
          "output_type": "execute_result",
          "data": {
            "text/plain": [
              "0.7887004526662893"
            ]
          },
          "metadata": {},
          "execution_count": 16
        }
      ]
    },
    {
      "cell_type": "code",
      "source": [
        "P = 1-z\n",
        "P"
      ],
      "metadata": {
        "colab": {
          "base_uri": "https://localhost:8080/"
        },
        "id": "vV90PinXRSNe",
        "outputId": "fbda501d-8969-4579-8344-00ecc5db74ee"
      },
      "execution_count": null,
      "outputs": [
        {
          "output_type": "execute_result",
          "data": {
            "text/plain": [
              "0.2112995473337107"
            ]
          },
          "metadata": {},
          "execution_count": 14
        }
      ]
    },
    {
      "cell_type": "markdown",
      "source": [
        "Standard Error = 40/10 = 4\n",
        "\n",
        "Mean = 50\n",
        "\n",
        "No. of observations = 100\n",
        "\n",
        "P(45<x<55) = 0.7887\n",
        "\n",
        "P = 1 - 0.7887 = 0.2112 = 21.12%\n"
      ],
      "metadata": {
        "id": "36l--TrPLxWD"
      }
    },
    {
      "cell_type": "markdown",
      "source": [
        "4)The auditors from the above example would like to maintain the probability of investigation to 5%. Which of the following represents the minimum number transactions that they should sample if they do not want to change the thresholds of 45 and 55? Assume that the sample statistics remain unchanged.\n",
        "\n",
        "A.\t144\n",
        "\n",
        "B.\t150\n",
        "\n",
        "C.\t196\n",
        "\n",
        "D.\t250\n",
        "\n",
        "E.\tNot enough information"
      ],
      "metadata": {
        "id": "0E-brBDKSQay"
      }
    },
    {
      "cell_type": "markdown",
      "source": [
        "The minimum number transactions that they should sample = 196"
      ],
      "metadata": {
        "id": "TefZakhkSYBh"
      }
    },
    {
      "cell_type": "markdown",
      "source": [
        "5.\tAn educational startup that helps MBA aspirants write their essays is targeting individuals who have taken GMAT in 2012 and have expressed interest in applying to FT top 20 b-schools. There are 40000 such individuals with an average GMAT score of 720 and a standard deviation of 120. The scores are distributed between 650 and 790 with a very long and thin tail towards the higher end resulting in substantial skewness. Which of the following is likely to be true for randomly chosen samples of aspirants?\n",
        "\n",
        "A.\tThe standard deviation of the scores within any sample will be 120.\n",
        "\n",
        "B.\tThe standard deviation of the mean of across several samples will be 120.\n",
        "\n",
        "C.\tThe mean score in any sample will be 720.\n",
        "\n",
        "D.\tThe average of the mean across several samples will be 720.\n",
        "\n",
        "E.\tThe standard deviation of the mean across several samples will be 0.60\n"
      ],
      "metadata": {
        "id": "9NtSUFLUyoBb"
      }
    },
    {
      "cell_type": "markdown",
      "source": [
        "A.\tFalse, Standard Deviation will not be 120 of scores in any one sample, since sample size is not given.\n",
        "\n",
        "B.\tFalse, the standard deviation of mean across several samples will not be 120. \n",
        "\n",
        "C.\tTrue, that the mean score in any sample will be 720.\n",
        "\n",
        "D.\tTrue, that the average of the mean across several samples will be 720.\n",
        "\n",
        "E.\tTrue, the standard deviation of the mean across several samples will be 0.60.\n"
      ],
      "metadata": {
        "id": "mhE5U8LOyvCJ"
      }
    }
  ]
}